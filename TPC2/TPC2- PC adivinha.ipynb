{
 "cells": [
  {
   "cell_type": "code",
   "execution_count": 25,
   "metadata": {},
   "outputs": [
    {
     "name": "stdout",
     "output_type": "stream",
     "text": [
      "esgotei as minhas tentativas...\n"
     ]
    }
   ],
   "source": [
    "# resolução com o PC a adivinhar o número escolhido pelo utilizador (com número máximo de tentativas)\n",
    "\n",
    "import random\n",
    "tentativas=0\n",
    "min=0\n",
    "max=100\n",
    "y= random.randint(min,max)\n",
    "x=(input(f\"o número em que pensaste é {y} (maior/menor/acertaste!)\"))\n",
    "\n",
    "while x!=\"acertaste!\" and tentativas+1<6: # ao meter \"tentativas+1\", quando chega à 6ª tentativa e o PC não acerta, esgotaram-se as tentativas\n",
    "    if x==\"maior\":\n",
    "        min=y+1\n",
    "        y=random.randint(min,max)\n",
    "        x=(input(f\"o número em que pensaste é {y}\"))\n",
    "        tentativas=tentativas+1\n",
    "    elif x==\"menor\":\n",
    "        max=y-1\n",
    "        y=random.randint(min,max)\n",
    "        x=(input(f\"o número em que pensaste é {y}\"))\n",
    "        tentativas=tentativas+1\n",
    "if x==\"acertaste!\":\n",
    "    print(f\"Finalmente! Acertei em {tentativas+1} tentativas\") # meto \"tentativas+1\" para contabilizar a primeira tentativa\n",
    "else:\n",
    "    print(\"esgotei as minhas tentativas...\")\n"
   ]
  },
  {
   "cell_type": "code",
   "execution_count": 28,
   "metadata": {},
   "outputs": [
    {
     "name": "stdout",
     "output_type": "stream",
     "text": [
      "Finalmente! Acertei em 2 tentativas\n"
     ]
    }
   ],
   "source": [
    "import random\n",
    "tentativas=1 # se meter \"tentativas=1\" já me contabiliza direito o nº de tentativas e não preciso de meter \"tentativas+1\" \n",
    "             # no print nem \"tentativas+1<6\"\n",
    "min=0\n",
    "max=100\n",
    "y= random.randint(min,max)\n",
    "x=(input(f\"o número em que pensaste é {y} (maior/menor/acertaste!)\"))\n",
    "\n",
    "while x!=\"acertaste!\" and tentativas<6: \n",
    "    if x==\"maior\":\n",
    "        min=y+1\n",
    "        y=random.randint(min,max)\n",
    "        x=(input(f\"o número em que pensaste é {y}\"))\n",
    "        tentativas=tentativas+1\n",
    "    elif x==\"menor\":\n",
    "        max=y-1\n",
    "        y=random.randint(min,max)\n",
    "        x=(input(f\"o número em que pensaste é {y}\"))\n",
    "        tentativas=tentativas+1\n",
    "if x==\"acertaste!\":\n",
    "    print(f\"Finalmente! Acertei em {tentativas} tentativas\") \n",
    "else:\n",
    "    print(\"esgotei as minhas tentativas...\")"
   ]
  }
 ],
 "metadata": {
  "kernelspec": {
   "display_name": "Python 3",
   "language": "python",
   "name": "python3"
  },
  "language_info": {
   "codemirror_mode": {
    "name": "ipython",
    "version": 3
   },
   "file_extension": ".py",
   "mimetype": "text/x-python",
   "name": "python",
   "nbconvert_exporter": "python",
   "pygments_lexer": "ipython3",
   "version": "3.12.6"
  }
 },
 "nbformat": 4,
 "nbformat_minor": 2
}
