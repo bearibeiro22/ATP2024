{
 "cells": [
  {
   "cell_type": "code",
   "execution_count": 2,
   "metadata": {},
   "outputs": [
    {
     "name": "stdout",
     "output_type": "stream",
     "text": [
      "o número em que estou a pensar é maior que 30\n",
      "o número em que estou a pensar é maior que 40\n",
      "o número em que estou a pensar é maior que 60\n",
      "o número em que estou a pensar é menor que 80 \n",
      "o número em que estou a pensar é maior que 70\n",
      "o número em que estou a pensar é menor que 75 \n",
      "Acertaste!O número era 74. Acertaste em 7 tentativas!\n"
     ]
    }
   ],
   "source": [
    "# resolução com o utilizador a adivinhar o número escolhido pelo PC (com número máximo de tentativas)\n",
    "\n",
    "import random\n",
    "tentativas=1\n",
    "min=0\n",
    "max=100\n",
    "x= random.randint(min,max)\n",
    "y=int(input(\"qual é o número em que estou a pensar?\"))\n",
    "\n",
    "while y!=x and tentativas<=10:\n",
    "    if y<x:\n",
    "        print(f\"o número em que estou a pensar é maior que {y}\")\n",
    "        y=int(input(\"o número em que estou a pensar é maior, qual será?\"))\n",
    "        tentativas=tentativas+1\n",
    "    elif y>x:\n",
    "        print(f\"o número em que estou a pensar é menor que {y} \")\n",
    "        y=int(input(\"o número em que estou a pensar é menor, qual será?\"))\n",
    "        tentativas=tentativas+1\n",
    "if y==x:\n",
    "    print(f\"Acertaste!O número era {y}. Acertaste em {tentativas} tentativas!\")\n",
    "else:\n",
    "    print(f\"Esgotaste as tuas tentativas. O número era {x}\")\n"
   ]
  }
 ],
 "metadata": {
  "kernelspec": {
   "display_name": "Python 3",
   "language": "python",
   "name": "python3"
  },
  "language_info": {
   "codemirror_mode": {
    "name": "ipython",
    "version": 3
   },
   "file_extension": ".py",
   "mimetype": "text/x-python",
   "name": "python",
   "nbconvert_exporter": "python",
   "pygments_lexer": "ipython3",
   "version": "3.12.6"
  }
 },
 "nbformat": 4,
 "nbformat_minor": 2
}
